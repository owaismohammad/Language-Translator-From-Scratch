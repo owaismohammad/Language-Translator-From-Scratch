{
 "cells": [
  {
   "cell_type": "code",
   "execution_count": 219,
   "id": "d154ab66",
   "metadata": {},
   "outputs": [],
   "source": [
    "import math\n",
    "import torch.nn as nn\n",
    "import torch"
   ]
  },
  {
   "cell_type": "code",
   "execution_count": 220,
   "id": "f24ee961",
   "metadata": {},
   "outputs": [],
   "source": [
    "d_model = 512\n",
    "num_heads = 8\n",
    "drop_prob =  0.1\n",
    "batch_size = 30\n",
    "max_seq_len = 200\n",
    "ffn_hidden = 2048\n",
    "num_layers = 5\n"
   ]
  },
  {
   "cell_type": "code",
   "execution_count": 65,
   "id": "2327117e",
   "metadata": {},
   "outputs": [
    {
     "name": "stdout",
     "output_type": "stream",
     "text": [
      "Overwriting MultiHeadAttention.py\n"
     ]
    }
   ],
   "source": [
    "%%writefile MultiHeadAttention.py\n",
    "import torch\n",
    "import torch.nn as nn\n",
    "\n",
    "class MultiHeadAttention(nn.Module):\n",
    "    def __init__(self, max_seqlen:int, d_model:int, attention_heads:int):\n",
    "        super().__init__()\n",
    "        self.max_seq = max_seqlen\n",
    "        self.d_model = d_model\n",
    "        self.ah = attention_heads\n",
    "        \n",
    "        self.qkv = nn.Linear(d_model, d_model*3)\n",
    "        \n",
    "    @staticmethod\n",
    "    def scaled_dot_product(q,k,v,mask=None):\n",
    "        \n",
    "        d_k = torch.tensor(k.shape[-1], dtype=torch.float)\n",
    "        attention = (q @ k.transpose(-2,-1)) / torch.sqrt(d_k)\n",
    "        if mask is not None:\n",
    "            attention+=mask\n",
    "        attention = torch.softmax(attention, dim =-1)\n",
    "        scaled = attention @ v\n",
    "        return scaled, attention\n",
    "        \n",
    "    def forward(self,x):\n",
    "        qkv = self.qkv(x)\n",
    "        ad = self.d_model // self.ah\n",
    "        qkv = qkv.reshape(x.shape[0],x.shape[1], self.ah, ad*3 )\n",
    "        qkv = qkv.permute(0,2,1,3)\n",
    "        q,k,v = qkv.chunk(chunks=3, dim=3)\n",
    "        values, attention = MultiHeadAttention.scaled_dot_product(q,k,v)\n",
    "        batch, head, seq, dim = values.size()\n",
    "        values = values.reshape(batch, seq, dim*head)\n",
    "        \n",
    "        return values \n"
   ]
  },
  {
   "cell_type": "code",
   "execution_count": 63,
   "id": "139e2436",
   "metadata": {},
   "outputs": [
    {
     "name": "stdout",
     "output_type": "stream",
     "text": [
      "Overwriting LayerNormalization.py\n"
     ]
    }
   ],
   "source": [
    "%%writefile LayerNormalization.py\n",
    "import torch\n",
    "import torch.nn as nn\n",
    "\n",
    "class LayerNormalization(nn.Module):\n",
    "    def __init__(self,d_model:int, dimension:list, eps:float = 1e-5):\n",
    "        super().__init__()\n",
    "        self.eps = eps\n",
    "        self.dimension = dimension\n",
    "        self.gamma = nn.Parameter(torch.ones(d_model))\n",
    "        self.bias = nn.Parameter(torch.zeros(d_model))\n",
    "    def forward(self, x):\n",
    "        mean = torch.mean(x, dim = self.dimension, keepdim=True)\n",
    "        var = torch.var(x, dim = self.dimension, keepdim=True)\n",
    "        layer_norm = (x - mean) / torch.sqrt(var + self.eps)\n",
    "        norm = self.gamma * layer_norm + self.bias\n",
    "        return norm\n",
    "    "
   ]
  },
  {
   "cell_type": "code",
   "execution_count": 62,
   "id": "c9cce910",
   "metadata": {},
   "outputs": [
    {
     "name": "stdout",
     "output_type": "stream",
     "text": [
      "Overwriting PositionwiseFeedForward.py\n"
     ]
    }
   ],
   "source": [
    "%%writefile PositionwiseFeedForward.py\n",
    "import torch\n",
    "import torch.nn as nn\n",
    "\n",
    "class PositionwiseFeedForward(nn.Module):\n",
    "    def __init__(self, d_model:int, hidden_unit:int, drop_prob:float):\n",
    "        super().__init__()\n",
    "        self.fc = nn.Sequential(\n",
    "            nn.Linear(d_model, hidden_unit),\n",
    "            nn.ReLU(),\n",
    "            nn.Dropout(drop_prob),\n",
    "            nn.Linear(hidden_unit, d_model),\n",
    "        )\n",
    "    def forward(self,x):\n",
    "        return self.fc(x)\n",
    "        "
   ]
  },
  {
   "cell_type": "code",
   "execution_count": 67,
   "id": "7efb0e5d",
   "metadata": {},
   "outputs": [
    {
     "name": "stdout",
     "output_type": "stream",
     "text": [
      "Overwriting PositionEncoding.py\n"
     ]
    }
   ],
   "source": [
    "%%writefile PositionEncoding.py\n",
    "import torch.nn as nn\n",
    "import torch\n",
    "\n",
    "class PositionEncoding(nn.Module):\n",
    "    def __init__(self, max_seq_len:int, d_model:int):\n",
    "        super().__init__()\n",
    "        self.maxseq = max_seq_len\n",
    "        self.d_model = d_model\n",
    "        \n",
    "    def forward(self, x):\n",
    "        batch, seq, dim = x.size()\n",
    "        pos = torch.arange(0, self.maxseq).reshape(self.maxseq, 1)\n",
    "        print(f\"pos = {pos}\")\n",
    "        even_denom = torch.pow(10000, torch.arange(0,self.d_model,2)/self.d_model )\n",
    "        print(f\"even deno = {even_denom}\")\n",
    "        odd_denom = torch.pow(10000, torch.arange(1,self.d_model,2)/self.d_model )\n",
    "        print(f\"odd denom = {odd_denom}\")\n",
    "        print(f\"pos/even denom = {pos/even_denom}\")\n",
    "        print(f\"pos/odd denom = {pos/odd_denom}\")\n",
    "        print(f\"{(pos/even_denom).unsqueeze(1)}\")\n",
    "        z = x\n",
    "        z[...,0::2] = (pos/even_denom).unsqueeze(1)\n",
    "        z[...,1::2] = (pos/odd_denom).unsqueeze(1)\n",
    "        return z\n",
    "    \n",
    "input= torch.tensor([[[1,2,3],\n",
    "                       [4,5,6]],\n",
    "                      \n",
    "                      [[7,8,9],\n",
    "                       [10,11,12]]], dtype=torch.float)\n",
    "model = PositionEncoding(2,3)\n",
    "y = model(input)\n",
    "y"
   ]
  },
  {
   "cell_type": "code",
   "execution_count": null,
   "id": "6a897266",
   "metadata": {},
   "outputs": [
    {
     "name": "stdout",
     "output_type": "stream",
     "text": [
      "tensor([[[ 1.,  2.,  3.],\n",
      "         [ 4.,  5.,  6.],\n",
      "         [ 7.,  8.,  9.],\n",
      "         [10., 11., 12.]]])\n",
      "torch.Size([1, 4, 3])\n",
      "pos = tensor([[0],\n",
      "        [1],\n",
      "        [2],\n",
      "        [3]])\n",
      "even deno = tensor([  1.0000, 464.1590])\n",
      "odd denom = tensor([21.5443])\n",
      "pos/even denom = tensor([[0.0000e+00, 0.0000e+00],\n",
      "        [1.0000e+00, 2.1544e-03],\n",
      "        [2.0000e+00, 4.3089e-03],\n",
      "        [3.0000e+00, 6.4633e-03]])\n",
      "pos/odd denom = tensor([[0.0000],\n",
      "        [0.0464],\n",
      "        [0.0928],\n",
      "        [0.1392]])\n",
      "tensor([[[0.0000e+00, 0.0000e+00]],\n",
      "\n",
      "        [[1.0000e+00, 2.1544e-03]],\n",
      "\n",
      "        [[2.0000e+00, 4.3089e-03]],\n",
      "\n",
      "        [[3.0000e+00, 6.4633e-03]]])\n"
     ]
    },
    {
     "ename": "RuntimeError",
     "evalue": "The expanded size of the tensor (1) must match the existing size (4) at non-singleton dimension 0.  Target sizes: [1, 4, 2].  Tensor sizes: [4, 1, 2]",
     "output_type": "error",
     "traceback": [
      "\u001b[31m---------------------------------------------------------------------------\u001b[39m",
      "\u001b[31mRuntimeError\u001b[39m                              Traceback (most recent call last)",
      "\u001b[36mCell\u001b[39m\u001b[36m \u001b[39m\u001b[32mIn[66]\u001b[39m\u001b[32m, line 9\u001b[39m\n\u001b[32m      7\u001b[39m \u001b[38;5;28mprint\u001b[39m(\u001b[38;5;28minput\u001b[39m)\n\u001b[32m      8\u001b[39m \u001b[38;5;28mprint\u001b[39m(\u001b[38;5;28minput\u001b[39m.shape)\n\u001b[32m----> \u001b[39m\u001b[32m9\u001b[39m y = \u001b[43mmodel\u001b[49m\u001b[43m(\u001b[49m\u001b[38;5;28;43minput\u001b[39;49m\u001b[43m)\u001b[49m\n\u001b[32m     10\u001b[39m y\n",
      "\u001b[36mFile \u001b[39m\u001b[32m~/.venvs/globalenv/lib/python3.12/site-packages/torch/nn/modules/module.py:1751\u001b[39m, in \u001b[36mModule._wrapped_call_impl\u001b[39m\u001b[34m(self, *args, **kwargs)\u001b[39m\n\u001b[32m   1749\u001b[39m     \u001b[38;5;28;01mreturn\u001b[39;00m \u001b[38;5;28mself\u001b[39m._compiled_call_impl(*args, **kwargs)  \u001b[38;5;66;03m# type: ignore[misc]\u001b[39;00m\n\u001b[32m   1750\u001b[39m \u001b[38;5;28;01melse\u001b[39;00m:\n\u001b[32m-> \u001b[39m\u001b[32m1751\u001b[39m     \u001b[38;5;28;01mreturn\u001b[39;00m \u001b[38;5;28;43mself\u001b[39;49m\u001b[43m.\u001b[49m\u001b[43m_call_impl\u001b[49m\u001b[43m(\u001b[49m\u001b[43m*\u001b[49m\u001b[43margs\u001b[49m\u001b[43m,\u001b[49m\u001b[43m \u001b[49m\u001b[43m*\u001b[49m\u001b[43m*\u001b[49m\u001b[43mkwargs\u001b[49m\u001b[43m)\u001b[49m\n",
      "\u001b[36mFile \u001b[39m\u001b[32m~/.venvs/globalenv/lib/python3.12/site-packages/torch/nn/modules/module.py:1762\u001b[39m, in \u001b[36mModule._call_impl\u001b[39m\u001b[34m(self, *args, **kwargs)\u001b[39m\n\u001b[32m   1757\u001b[39m \u001b[38;5;66;03m# If we don't have any hooks, we want to skip the rest of the logic in\u001b[39;00m\n\u001b[32m   1758\u001b[39m \u001b[38;5;66;03m# this function, and just call forward.\u001b[39;00m\n\u001b[32m   1759\u001b[39m \u001b[38;5;28;01mif\u001b[39;00m \u001b[38;5;129;01mnot\u001b[39;00m (\u001b[38;5;28mself\u001b[39m._backward_hooks \u001b[38;5;129;01mor\u001b[39;00m \u001b[38;5;28mself\u001b[39m._backward_pre_hooks \u001b[38;5;129;01mor\u001b[39;00m \u001b[38;5;28mself\u001b[39m._forward_hooks \u001b[38;5;129;01mor\u001b[39;00m \u001b[38;5;28mself\u001b[39m._forward_pre_hooks\n\u001b[32m   1760\u001b[39m         \u001b[38;5;129;01mor\u001b[39;00m _global_backward_pre_hooks \u001b[38;5;129;01mor\u001b[39;00m _global_backward_hooks\n\u001b[32m   1761\u001b[39m         \u001b[38;5;129;01mor\u001b[39;00m _global_forward_hooks \u001b[38;5;129;01mor\u001b[39;00m _global_forward_pre_hooks):\n\u001b[32m-> \u001b[39m\u001b[32m1762\u001b[39m     \u001b[38;5;28;01mreturn\u001b[39;00m \u001b[43mforward_call\u001b[49m\u001b[43m(\u001b[49m\u001b[43m*\u001b[49m\u001b[43margs\u001b[49m\u001b[43m,\u001b[49m\u001b[43m \u001b[49m\u001b[43m*\u001b[49m\u001b[43m*\u001b[49m\u001b[43mkwargs\u001b[49m\u001b[43m)\u001b[49m\n\u001b[32m   1764\u001b[39m result = \u001b[38;5;28;01mNone\u001b[39;00m\n\u001b[32m   1765\u001b[39m called_always_called_hooks = \u001b[38;5;28mset\u001b[39m()\n",
      "\u001b[36mCell\u001b[39m\u001b[36m \u001b[39m\u001b[32mIn[63]\u001b[39m\u001b[32m, line 22\u001b[39m, in \u001b[36mPositionEncoding.forward\u001b[39m\u001b[34m(self, x)\u001b[39m\n\u001b[32m     20\u001b[39m \u001b[38;5;28mprint\u001b[39m(\u001b[33mf\u001b[39m\u001b[33m\"\u001b[39m\u001b[38;5;132;01m{\u001b[39;00m(pos/even_denom).unsqueeze(\u001b[32m1\u001b[39m)\u001b[38;5;132;01m}\u001b[39;00m\u001b[33m\"\u001b[39m)\n\u001b[32m     21\u001b[39m z = x\n\u001b[32m---> \u001b[39m\u001b[32m22\u001b[39m \u001b[43mz\u001b[49m\u001b[43m[\u001b[49m\u001b[43m.\u001b[49m\u001b[43m.\u001b[49m\u001b[43m.\u001b[49m\u001b[43m,\u001b[49m\u001b[32;43m0\u001b[39;49m\u001b[43m:\u001b[49m\u001b[43m:\u001b[49m\u001b[32;43m2\u001b[39;49m\u001b[43m]\u001b[49m = (pos/even_denom).unsqueeze(\u001b[32m1\u001b[39m)\n\u001b[32m     23\u001b[39m z[...,\u001b[32m1\u001b[39m::\u001b[32m2\u001b[39m] = (pos/odd_denom).unsqueeze(\u001b[32m1\u001b[39m)\n\u001b[32m     24\u001b[39m \u001b[38;5;28;01mreturn\u001b[39;00m z\n",
      "\u001b[31mRuntimeError\u001b[39m: The expanded size of the tensor (1) must match the existing size (4) at non-singleton dimension 0.  Target sizes: [1, 4, 2].  Tensor sizes: [4, 1, 2]"
     ]
    }
   ],
   "source": []
  },
  {
   "cell_type": "code",
   "execution_count": null,
   "id": "11b83ebd",
   "metadata": {},
   "outputs": [],
   "source": []
  }
 ],
 "metadata": {
  "kernelspec": {
   "display_name": "globalenv",
   "language": "python",
   "name": "python3"
  },
  "language_info": {
   "codemirror_mode": {
    "name": "ipython",
    "version": 3
   },
   "file_extension": ".py",
   "mimetype": "text/x-python",
   "name": "python",
   "nbconvert_exporter": "python",
   "pygments_lexer": "ipython3",
   "version": "3.12.3"
  }
 },
 "nbformat": 4,
 "nbformat_minor": 5
}
